{
 "cells": [
  {
   "cell_type": "code",
   "execution_count": 9,
   "metadata": {},
   "outputs": [],
   "source": [
    "import pandas as pd\n",
    "import numpy as np\n",
    "import tensorflow as tf\n",
    "import matplotlib.pyplot as plt"
   ]
  },
  {
   "cell_type": "code",
   "execution_count": 4,
   "metadata": {},
   "outputs": [
    {
     "name": "stderr",
     "output_type": "stream",
     "text": [
      "WARNING:absl:Compiled the loaded model, but the compiled metrics have yet to be built. `model.compile_metrics` will be empty until you train or evaluate the model.\n"
     ]
    }
   ],
   "source": [
    "from keras.models import load_model\n",
    "\n",
    "# Misalkan model Anda disimpan dengan nama 'my_model.h5'\n",
    "model = load_model('D:/Belajar Data Science/DeepLearning/Google_Stock_Prediction/Model/model_stock_prediction_v1.h5')\n",
    "from joblib import load\n",
    "\n",
    "# Memuat scaler dari file\n",
    "sc = load('D:/Belajar Data Science/DeepLearning/Google_Stock_Prediction/Model/scaler.joblib')\n"
   ]
  },
  {
   "cell_type": "code",
   "execution_count": 6,
   "metadata": {},
   "outputs": [
    {
     "data": {
      "text/html": [
       "<div>\n",
       "<style scoped>\n",
       "    .dataframe tbody tr th:only-of-type {\n",
       "        vertical-align: middle;\n",
       "    }\n",
       "\n",
       "    .dataframe tbody tr th {\n",
       "        vertical-align: top;\n",
       "    }\n",
       "\n",
       "    .dataframe thead th {\n",
       "        text-align: right;\n",
       "    }\n",
       "</style>\n",
       "<table border=\"1\" class=\"dataframe\">\n",
       "  <thead>\n",
       "    <tr style=\"text-align: right;\">\n",
       "      <th></th>\n",
       "      <th>Date</th>\n",
       "      <th>Open</th>\n",
       "      <th>High</th>\n",
       "      <th>Low</th>\n",
       "      <th>Close</th>\n",
       "      <th>Adj Close</th>\n",
       "      <th>Volume</th>\n",
       "    </tr>\n",
       "  </thead>\n",
       "  <tbody>\n",
       "    <tr>\n",
       "      <th>0</th>\n",
       "      <td>2023-01-03</td>\n",
       "      <td>89.589996</td>\n",
       "      <td>91.050003</td>\n",
       "      <td>88.519997</td>\n",
       "      <td>89.120003</td>\n",
       "      <td>89.120003</td>\n",
       "      <td>28131200</td>\n",
       "    </tr>\n",
       "    <tr>\n",
       "      <th>1</th>\n",
       "      <td>2023-01-04</td>\n",
       "      <td>90.349998</td>\n",
       "      <td>90.650002</td>\n",
       "      <td>87.269997</td>\n",
       "      <td>88.080002</td>\n",
       "      <td>88.080002</td>\n",
       "      <td>34854800</td>\n",
       "    </tr>\n",
       "    <tr>\n",
       "      <th>2</th>\n",
       "      <td>2023-01-05</td>\n",
       "      <td>87.470001</td>\n",
       "      <td>87.570000</td>\n",
       "      <td>85.900002</td>\n",
       "      <td>86.199997</td>\n",
       "      <td>86.199997</td>\n",
       "      <td>27194400</td>\n",
       "    </tr>\n",
       "    <tr>\n",
       "      <th>3</th>\n",
       "      <td>2023-01-06</td>\n",
       "      <td>86.790001</td>\n",
       "      <td>87.690002</td>\n",
       "      <td>84.860001</td>\n",
       "      <td>87.339996</td>\n",
       "      <td>87.339996</td>\n",
       "      <td>41381500</td>\n",
       "    </tr>\n",
       "    <tr>\n",
       "      <th>4</th>\n",
       "      <td>2023-01-09</td>\n",
       "      <td>88.360001</td>\n",
       "      <td>90.050003</td>\n",
       "      <td>87.860001</td>\n",
       "      <td>88.019997</td>\n",
       "      <td>88.019997</td>\n",
       "      <td>29003900</td>\n",
       "    </tr>\n",
       "    <tr>\n",
       "      <th>...</th>\n",
       "      <td>...</td>\n",
       "      <td>...</td>\n",
       "      <td>...</td>\n",
       "      <td>...</td>\n",
       "      <td>...</td>\n",
       "      <td>...</td>\n",
       "      <td>...</td>\n",
       "    </tr>\n",
       "    <tr>\n",
       "      <th>138</th>\n",
       "      <td>2023-07-24</td>\n",
       "      <td>121.660004</td>\n",
       "      <td>123.000000</td>\n",
       "      <td>120.980003</td>\n",
       "      <td>121.529999</td>\n",
       "      <td>121.529999</td>\n",
       "      <td>29686100</td>\n",
       "    </tr>\n",
       "    <tr>\n",
       "      <th>139</th>\n",
       "      <td>2023-07-25</td>\n",
       "      <td>121.360001</td>\n",
       "      <td>123.150002</td>\n",
       "      <td>121.019997</td>\n",
       "      <td>122.209999</td>\n",
       "      <td>122.209999</td>\n",
       "      <td>52509600</td>\n",
       "    </tr>\n",
       "    <tr>\n",
       "      <th>140</th>\n",
       "      <td>2023-07-26</td>\n",
       "      <td>130.070007</td>\n",
       "      <td>130.979996</td>\n",
       "      <td>128.320007</td>\n",
       "      <td>129.270004</td>\n",
       "      <td>129.270004</td>\n",
       "      <td>61682100</td>\n",
       "    </tr>\n",
       "    <tr>\n",
       "      <th>141</th>\n",
       "      <td>2023-07-27</td>\n",
       "      <td>131.669998</td>\n",
       "      <td>133.240005</td>\n",
       "      <td>128.789993</td>\n",
       "      <td>129.399994</td>\n",
       "      <td>129.399994</td>\n",
       "      <td>44952100</td>\n",
       "    </tr>\n",
       "    <tr>\n",
       "      <th>142</th>\n",
       "      <td>2023-07-28</td>\n",
       "      <td>130.779999</td>\n",
       "      <td>133.740005</td>\n",
       "      <td>130.570007</td>\n",
       "      <td>132.580002</td>\n",
       "      <td>132.580002</td>\n",
       "      <td>36572900</td>\n",
       "    </tr>\n",
       "  </tbody>\n",
       "</table>\n",
       "<p>143 rows × 7 columns</p>\n",
       "</div>"
      ],
      "text/plain": [
       "           Date        Open        High         Low       Close   Adj Close  \\\n",
       "0    2023-01-03   89.589996   91.050003   88.519997   89.120003   89.120003   \n",
       "1    2023-01-04   90.349998   90.650002   87.269997   88.080002   88.080002   \n",
       "2    2023-01-05   87.470001   87.570000   85.900002   86.199997   86.199997   \n",
       "3    2023-01-06   86.790001   87.690002   84.860001   87.339996   87.339996   \n",
       "4    2023-01-09   88.360001   90.050003   87.860001   88.019997   88.019997   \n",
       "..          ...         ...         ...         ...         ...         ...   \n",
       "138  2023-07-24  121.660004  123.000000  120.980003  121.529999  121.529999   \n",
       "139  2023-07-25  121.360001  123.150002  121.019997  122.209999  122.209999   \n",
       "140  2023-07-26  130.070007  130.979996  128.320007  129.270004  129.270004   \n",
       "141  2023-07-27  131.669998  133.240005  128.789993  129.399994  129.399994   \n",
       "142  2023-07-28  130.779999  133.740005  130.570007  132.580002  132.580002   \n",
       "\n",
       "       Volume  \n",
       "0    28131200  \n",
       "1    34854800  \n",
       "2    27194400  \n",
       "3    41381500  \n",
       "4    29003900  \n",
       "..        ...  \n",
       "138  29686100  \n",
       "139  52509600  \n",
       "140  61682100  \n",
       "141  44952100  \n",
       "142  36572900  \n",
       "\n",
       "[143 rows x 7 columns]"
      ]
     },
     "execution_count": 6,
     "metadata": {},
     "output_type": "execute_result"
    }
   ],
   "source": [
    "df = pd.read_csv('D:/Belajar Data Science/DeepLearning/Google_Stock_Prediction/Datasets/Google_Stock_Test (2023).csv')\n",
    "df"
   ]
  },
  {
   "cell_type": "code",
   "execution_count": 8,
   "metadata": {},
   "outputs": [
    {
     "name": "stdout",
     "output_type": "stream",
     "text": [
      "\u001b[1m3/3\u001b[0m \u001b[32m━━━━━━━━━━━━━━━━━━━━\u001b[0m\u001b[37m\u001b[0m \u001b[1m1s\u001b[0m 158ms/step\n"
     ]
    }
   ],
   "source": [
    "inputs = df.iloc[:, 1:2].values\n",
    "inputs = inputs.reshape(-1,1)\n",
    "inputs = sc.transform(inputs)\n",
    "\n",
    "X_test = []\n",
    "for i in range(60, len(inputs)):\n",
    "    X_test.append(inputs[i-60:i,0])\n",
    "X_test = np.array(X_test)\n",
    "X_test = np.reshape(X_test, (X_test.shape[0], X_test.shape[1], 1))\n",
    "predicted_stock_price = model.predict(X_test)\n",
    "predicted_stock_price = sc.inverse_transform(predicted_stock_price)"
   ]
  },
  {
   "cell_type": "code",
   "execution_count": 12,
   "metadata": {},
   "outputs": [
    {
     "data": {
      "image/png": "[encoded data removed]",
      "text/plain": [
       "<Figure size 640x480 with 1 Axes>"
      ]
     },
     "metadata": {},
     "output_type": "display_data"
    }
   ],
   "source": [
    "# plt.plot(real_stock_price, color = 'red', label = 'Real Google Stock Price')\n",
    "plt.plot(predicted_stock_price, color = 'blue', label = 'Predicted Google Stock Price')\n",
    "plt.title('Google Stock Price Prediction')\n",
    "plt.xlabel('Time')\n",
    "plt.ylabel('Google Stock Price')\n",
    "plt.legend()\n",
    "plt.show()"
   ]
  }
 ],
 "metadata": {
  "kernelspec": {
   "display_name": "Python 3",
   "language": "python",
   "name": "python3"
  },
  "language_info": {
   "codemirror_mode": {
    "name": "ipython",
    "version": 3
   },
   "file_extension": ".py",
   "mimetype": "text/x-python",
   "name": "python",
   "nbconvert_exporter": "python",
   "pygments_lexer": "ipython3",
   "version": "3.11.9"
  },
  "orig_nbformat": 4
 },
 "nbformat": 4,
 "nbformat_minor": 2
}
